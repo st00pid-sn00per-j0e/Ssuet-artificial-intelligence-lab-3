{
 "cells": [
  {
   "cell_type": "code",
   "execution_count": null,
   "id": "d7e57c15",
   "metadata": {},
   "outputs": [],
   "source": [
    "\n",
    "import numpy as np\n",
    "from sklearn.neighbors import KNeighborsClassifier\n",
    "\n",
    "# Lab task 1: Implement K-Nearest Neighbor (KNN) Algorithm\n",
    "X_train = np.array([[0, 0], [1, 1], [2, 2], [1, 1], [0, 2]])\n",
    "y_train = np.array([0, 1, 0, 1, 1]) \n",
    "query_instance = np.array([[1, 1]])\n",
    "knn = KNeighborsClassifier(n_neighbors=3)\n",
    "knn.fit(X_train, y_train)\n",
    "predicted_class = knn.predict(query_instance)\n",
    "print(\"Predicted class for the query instance:\", \"Play\" if predicted_class == 1 else \"No Play\")\n"
   ]
  },
  {
   "cell_type": "code",
   "execution_count": null,
   "id": "dde35382",
   "metadata": {},
   "outputs": [],
   "source": [
    "\n",
    "from sklearn.metrics import confusion_matrix\n",
    "\n",
    "# Lab task 2: Confusion Matrix\n",
    "X_test = np.array([[0, 0], [2, 2], [1, 1]]) \n",
    "y_test = np.array([0, 0, 1])\n",
    "y_pred = knn.predict(X_test)\n",
    "cm = confusion_matrix(y_test, y_pred)\n",
    "print(\"\\nConfusion Matrix:\")\n",
    "print(cm)\n"
   ]
  },
  {
   "cell_type": "code",
   "execution_count": null,
   "id": "d17560e6",
   "metadata": {},
   "outputs": [],
   "source": [
    "\n",
    "import numpy as np\n",
    "\n",
    "def euclidean_distance(point1, point2):\n",
    "    return np.sqrt(np.sum((point1 - point2) ** 2))\n",
    "\n",
    "# Lab task 3: Euclidean Distance\n",
    "query_tissue = np.array([3, 7])\n",
    "X_train_tissue = np.array([[1, 2], [4, 6], [2, 8], [3, 4], [6, 2]])\n",
    "y_train_tissue = np.array([0, 1, 1, 0, 0])\n",
    "distances = [euclidean_distance(query_tissue, train_point) for train_point in X_train_tissue]\n",
    "print(\"\\nEuclidean Distances:\", distances)\n",
    "sorted_indices = np.argsort(distances)\n",
    "nearest_neighbors = y_train_tissue[sorted_indices[:3]]\n",
    "print(\"Nearest Neighbors:\", nearest_neighbors)\n",
    "predicted_class_tissue = np.argmax(np.bincount(nearest_neighbors))\n",
    "print(\"Predicted class for the new tissue paper:\", \"Class 1\" if predicted_class_tissue == 1 else \"Class 0\")\n"
   ]
  },
  {
   "cell_type": "code",
   "execution_count": null,
   "id": "815e4626",
   "metadata": {},
   "outputs": [],
   "source": [
    "\n",
    "from sklearn.preprocessing import StandardScaler\n",
    "from sklearn.neighbors import KNeighborsClassifier\n",
    "from sklearn.metrics import confusion_matrix\n",
    "\n",
    "# Home task Sample Dataset (Height, Weight) with labels (Healthy/Overweight)\n",
    "X_train = np.array([[170, 65], [160, 75], [180, 85], [165, 70], [175, 80], [155, 60]])\n",
    "y_train = np.array([0, 1, 1, 0, 1, 0])\n",
    "X_test = np.array([[168, 72], [185, 90], [160, 65]])\n",
    "scaler = StandardScaler()\n",
    "X_train_scaled = scaler.fit_transform(X_train)\n",
    "X_test_scaled = scaler.transform(X_test)\n",
    "knn = KNeighborsClassifier(n_neighbors=3)\n",
    "knn.fit(X_train_scaled, y_train)\n",
    "y_pred = knn.predict(X_test_scaled)\n",
    "print(\"Test Data (Height, Weight) and Predictions:\")\n",
    "for i, (height, weight) in enumerate(X_test):\n",
    "    print(f\"Height: {height} cm, Weight: {weight} kg => Predicted: {'Healthy' if y_pred[i] == 0 else 'Overweight'}\")\n",
    "\n",
    "y_true = np.array([0, 1, 0])\n",
    "cm = confusion_matrix(y_true, y_pred)\n",
    "print(\"\\nConfusion Matrix:\")\n",
    "print(cm)\n"
   ]
  }
 ],
 "metadata": {},
 "nbformat": 4,
 "nbformat_minor": 5
}
